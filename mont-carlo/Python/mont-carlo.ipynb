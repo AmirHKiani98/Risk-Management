{
 "metadata": {
  "language_info": {
   "codemirror_mode": {
    "name": "ipython",
    "version": 3
   },
   "file_extension": ".py",
   "mimetype": "text/x-python",
   "name": "python",
   "nbconvert_exporter": "python",
   "pygments_lexer": "ipython3",
   "version": "3.9.1-final"
  },
  "orig_nbformat": 2,
  "kernelspec": {
   "name": "python3",
   "display_name": "Python 3.9.1 64-bit",
   "metadata": {
    "interpreter": {
     "hash": "892227d14d2daa952662dd44dee0ebb4e6baeee379db9722bbf63a5542c7e6a7"
    }
   }
  }
 },
 "nbformat": 4,
 "nbformat_minor": 2,
 "cells": [
  {
   "cell_type": "code",
   "execution_count": 16,
   "metadata": {
    "tags": []
   },
   "outputs": [
    {
     "output_type": "stream",
     "name": "stdout",
     "text": [
      "Standard Deviation: 1.266962967098881\nProbability: 0.80022\nNumber: 8\n"
     ]
    }
   ],
   "source": [
    "import random\n",
    "import math\n",
    "import numpy as np\n",
    "def get_rand_float():\n",
    "    return random.uniform(0, 1)\n",
    "\n",
    "def mont_carlo_bicycle(n,ch):\n",
    "    numbers = []\n",
    "    probs = []\n",
    "    for i in range(n):\n",
    "        valid_bicycles = 0\n",
    "        for i in range(ch):\n",
    "            number = get_rand_float()\n",
    "            if number <= 0.8:\n",
    "                valid_bicycles += 1\n",
    "        probs.append(valid_bicycles/ch)\n",
    "        numbers.append(valid_bicycles)\n",
    "    return (numbers , probs)\n",
    "result = mont_carlo_bicycle(10000,10)\n",
    "std = np.std(result[0])\n",
    "prob = np.mean(result[1])\n",
    "valids = round(np.mean((result[0])))\n",
    "print(\"Standard Deviation: \" + str(std))\n",
    "print(\"Probability: \" + str(prob))\n",
    "print(\"Number: \" +str(valids))"
   ]
  }
 ]
}