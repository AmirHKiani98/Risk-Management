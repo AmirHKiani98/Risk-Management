{
 "metadata": {
  "language_info": {
   "codemirror_mode": {
    "name": "ipython",
    "version": 3
   },
   "file_extension": ".py",
   "mimetype": "text/x-python",
   "name": "python",
   "nbconvert_exporter": "python",
   "pygments_lexer": "ipython3",
   "version": "3.9.5"
  },
  "orig_nbformat": 2,
  "kernelspec": {
   "name": "python3",
   "display_name": "Python 3.9.5 64-bit"
  },
  "metadata": {
   "interpreter": {
    "hash": "4ca808468450573b7499acb34fc54a161d6ee5a4acdd411b1db3d6b37c3db642"
   }
  },
  "interpreter": {
   "hash": "ec055ff0ec4043811b397570eb854b5bbdcf91cbdbdb500dd4a87814f1494bab"
  }
 },
 "nbformat": 4,
 "nbformat_minor": 2,
 "cells": [
  {
   "cell_type": "code",
   "execution_count": 1,
   "metadata": {},
   "outputs": [
    {
     "output_type": "display_data",
     "data": {
      "text/plain": "<IPython.core.display.Math object>",
      "text/latex": "$\\displaystyle \\frac{\\partial G(\\mathbf{Y_k})}{\\partial y_1} = 10$"
     },
     "metadata": {}
    },
    {
     "output_type": "display_data",
     "data": {
      "text/plain": "<IPython.core.display.Math object>",
      "text/latex": "$\\displaystyle \\frac{\\partial G(\\mathbf{Y_k})}{\\partial y_2} = -4$"
     },
     "metadata": {}
    },
    {
     "output_type": "display_data",
     "data": {
      "text/plain": "<IPython.core.display.Math object>",
      "text/latex": "$\\displaystyle G(y_1 = 0, y_2 = 0)$"
     },
     "metadata": {}
    },
    {
     "output_type": "display_data",
     "data": {
      "text/plain": "<IPython.core.display.Math object>",
      "text/latex": "$\\displaystyle G(y_1 = -30/29, y_2 = 12/29)$"
     },
     "metadata": {}
    },
    {
     "output_type": "display_data",
     "data": {
      "text/plain": "<IPython.core.display.Math object>",
      "text/latex": "$\\displaystyle \\beta = 1.11417202906231$"
     },
     "metadata": {}
    },
    {
     "output_type": "execute_result",
     "data": {
      "text/plain": [
       "   iterate G_val der_y_1     y_1 der_y_2    y_2\n",
       "0        0    12      10       0      -4      0\n",
       "1        1     0      10  -30/29      -4  12/29"
      ],
      "text/html": "<div>\n<style scoped>\n    .dataframe tbody tr th:only-of-type {\n        vertical-align: middle;\n    }\n\n    .dataframe tbody tr th {\n        vertical-align: top;\n    }\n\n    .dataframe thead th {\n        text-align: right;\n    }\n</style>\n<table border=\"1\" class=\"dataframe\">\n  <thead>\n    <tr style=\"text-align: right;\">\n      <th></th>\n      <th>iterate</th>\n      <th>G_val</th>\n      <th>der_y_1</th>\n      <th>y_1</th>\n      <th>der_y_2</th>\n      <th>y_2</th>\n    </tr>\n  </thead>\n  <tbody>\n    <tr>\n      <th>0</th>\n      <td>0</td>\n      <td>12</td>\n      <td>10</td>\n      <td>0</td>\n      <td>-4</td>\n      <td>0</td>\n    </tr>\n    <tr>\n      <th>1</th>\n      <td>1</td>\n      <td>0</td>\n      <td>10</td>\n      <td>-30/29</td>\n      <td>-4</td>\n      <td>12/29</td>\n    </tr>\n  </tbody>\n</table>\n</div>"
     },
     "metadata": {},
     "execution_count": 1
    }
   ],
   "source": [
    "import sympy as sym\n",
    "from IPython.display import display, Math, Latex\n",
    "import pandas as pd\n",
    "import numpy as np\n",
    "def func_str(function):\n",
    "    return str(function)\n",
    "    function_str = str(function)\n",
    "    function_str = function_str.replace(\"**\", \"^\")\n",
    "    return function_str\n",
    "class Iterative:\n",
    "    def __init__(self, function, *args):\n",
    "        self.variables = []\n",
    "        self.function = function\n",
    "        self.data_dict = {\"iterate\":[],\"G_val\":[]}\n",
    "        for variable in args:\n",
    "            self.variables.append(variable)\n",
    "            self.data_dict[\"der_\" + str(variable)] = []\n",
    "            self.data_dict[str(variable)] = []\n",
    "        self.partial_deravatives()\n",
    "\n",
    "    def partial_deravatives(self):\n",
    "         self.deravatives = []\n",
    "         i = 0\n",
    "         for variable in self.variables:\n",
    "             self.deravatives.append(sym.diff(self.function, variable))\n",
    "             display(Math(r\"\\frac{\\partial G(\\mathbf{Y_k})}{\\partial y_%d}\" % (i+1) + \" = \" + str(self.deravatives[i])))\n",
    "             i += 1\n",
    "    \n",
    "    def calc_limit_state(self, numerical_vars):\n",
    "        temp_dict = {}\n",
    "        to_show = \"G(\"\n",
    "        for index,variable in enumerate(self.variables):\n",
    "            temp_dict[variable] =numerical_vars[index]\n",
    "            if index != (len(self.variables)-1):\n",
    "                to_show += str(variable) + \" = \" + str(numerical_vars[index]) + \", \"\n",
    "            else:\n",
    "                to_show += str(variable) + \" = \" + str(numerical_vars[index]) + \")\"\n",
    "        display(Math(to_show)) \n",
    "        return self.function.subs(temp_dict)\n",
    "\n",
    "\n",
    "    def calc_gradient(self, numerical_vars):\n",
    "        gradient = []\n",
    "        temp_dict = {}\n",
    "        for index, variable in enumerate(self.variables):\n",
    "            temp_dict[variable] = numerical_vars[index]\n",
    "        \n",
    "        for deravative in self.deravatives:\n",
    "            gradient.append(deravative.subs(temp_dict))\n",
    "        \n",
    "        return gradient\n",
    "\n",
    "\n",
    "    def make_dataframe(self):\n",
    "        return pd.DataFrame(data=self.data_dict)\n",
    "\n",
    "    def iterate(self):\n",
    "        i = 0\n",
    "        self.ys = []\n",
    "        while(True):\n",
    "            if(i == 0):\n",
    "                for j in range(len(self.variables)):\n",
    "                    self.ys.append(0)\n",
    "            self.data_dict[\"iterate\"].append(i)\n",
    "            i += 1\n",
    "            gradient = np.array(self.calc_gradient(self.ys))\n",
    "            limit_state = self.calc_limit_state(self.ys)\n",
    "            ys = np.array(self.ys).reshape(-1,1)\n",
    "            gradient_measurement = sum(gradient**2)\n",
    "            self.ys = (1/gradient_measurement)*(gradient.dot(ys)[0] - limit_state) * gradient\n",
    "            self.data_dict[\"G_val\"].append(limit_state)\n",
    "            for index in range(len(self.variables)):\n",
    "                self.data_dict[\"der_\" + str(self.variables[index])].append(gradient[index])\n",
    "                self.data_dict[str(self.variables[index])].append(ys[index][0])\n",
    "\n",
    "            if abs(limit_state) < 0.001:\n",
    "                break\n",
    "        \n",
    "    \n",
    "    def get_beta(self):\n",
    "        self.beta = (sum(self.ys**2))**0.5\n",
    "        display(Math(r\"\\beta = \" + str(self.beta)))\n",
    "        return self.beta\n",
    "        \n",
    "    \n",
    "\n",
    "        \n",
    "\n",
    "\n",
    "y_1, y_2 = sym.symbols('y_1 y_2')\n",
    "\n",
    "G =  10*y_1 - 4*y_2 + 12\n",
    "\n",
    "\n",
    "iterative = Iterative(G, y_1, y_2)\n",
    "iterative.iterate()\n",
    "iterative.get_beta()\n",
    "iterative.make_dataframe().round(3)"
   ]
  }
 ]
}