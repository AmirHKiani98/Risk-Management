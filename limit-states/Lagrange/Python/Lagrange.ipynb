{
 "metadata": {
  "language_info": {
   "codemirror_mode": {
    "name": "ipython",
    "version": 3
   },
   "file_extension": ".py",
   "mimetype": "text/x-python",
   "name": "python",
   "nbconvert_exporter": "python",
   "pygments_lexer": "ipython3",
   "version": "3.9.4"
  },
  "orig_nbformat": 2,
  "kernelspec": {
   "name": "python394jvsc74a57bd04ca808468450573b7499acb34fc54a161d6ee5a4acdd411b1db3d6b37c3db642",
   "display_name": "Python 3.9.4 64-bit"
  },
  "metadata": {
   "interpreter": {
    "hash": "4ca808468450573b7499acb34fc54a161d6ee5a4acdd411b1db3d6b37c3db642"
   }
  }
 },
 "nbformat": 4,
 "nbformat_minor": 2,
 "cells": [
  {
   "cell_type": "code",
   "execution_count": 45,
   "metadata": {},
   "outputs": [
    {
     "output_type": "display_data",
     "data": {
      "text/plain": "<IPython.core.display.Math object>",
      "text/latex": "$\\displaystyle min(\\Delta) =  λ*(-y_2 - 0.16*(y_1 - 1)**2 + 4) + (y_1**2 + y_2**2)**0.5$"
     },
     "metadata": {}
    },
    {
     "output_type": "display_data",
     "data": {
      "text/plain": "<IPython.core.display.Math object>",
      "text/latex": "$\\displaystyle \\frac{\\partial min(\\Delta)}{\\partial y_1} = λ*(0.32 - 0.32*y_1) + 1.0*y_1*(y_1**2 + y_2**2)**(-0.5) = 0$"
     },
     "metadata": {}
    },
    {
     "output_type": "display_data",
     "data": {
      "text/plain": "<IPython.core.display.Math object>",
      "text/latex": "$\\displaystyle \\frac{\\partial min(\\Delta)}{\\partial y_2} = -λ + 1.0*y_2*(y_1**2 + y_2**2)**(-0.5) = 0$"
     },
     "metadata": {}
    },
    {
     "output_type": "display_data",
     "data": {
      "text/plain": "<IPython.core.display.Math object>",
      "text/latex": "$\\displaystyle \\frac{\\partial min(\\Delta)}{\\partial \\lambda} = -y_2 - 0.16*(y_1 - 1)**2 + 4 = 0$"
     },
     "metadata": {}
    }
   ],
   "source": [
    "import sympy as sym\n",
    "from sympy.physics.units.quantities import Quantity\n",
    "from IPython.display import display, Math, Latex\n",
    "import pandas as pd\n",
    "import numpy as np\n",
    "def func_str(function):\n",
    "    return str(function)\n",
    "    function_str = str(function)\n",
    "    function_str = function_str.replace(\"**\", \"^\")\n",
    "    return function_str\n",
    "class Lagrange:\n",
    "    def __init__(self, function, *args):\n",
    "        self.lamb = Quantity(\"λ\")\n",
    "        self.variables = []\n",
    "        self.function = function\n",
    "        for variable in args:\n",
    "            self.variables.append(variable)\n",
    "        self.make_delta()\n",
    "        self.partial_deravative()\n",
    "        \n",
    "    def make_delta(self):\n",
    "        summation = 0\n",
    "        for variable in self.variables:\n",
    "            summation += variable**2 \n",
    "        self.delta =  summation**0.5 + self.lamb * self.function\n",
    "        display(Math(r\"min(\\Delta) =  \" + func_str(self.delta)))\n",
    "    \n",
    "    def partial_deravative(self):\n",
    "        self.partial_equations = []\n",
    "        for i in range(len(self.variables) + 1):\n",
    "            if i == len(self.variables):\n",
    "                der_function = sym.diff(self.delta, self.lamb)\n",
    "                self.partial_equations.append(sym.Eq(der_function, 0))\n",
    "                display(Math(r\"\\frac{\\partial min(\\Delta)}{\\partial \\lambda} = \" + func_str(der_function) + str( \" = 0\")))\n",
    "            else:\n",
    "                der_function = sym.diff(self.delta, self.variables[i])\n",
    "                self.partial_equations.append(sym.Eq(der_function, 0))\n",
    "                display(Math(r\"\\frac{\\partial min(\\Delta)}{\\partial y_%d} = \" % (i+1) + func_str(der_function) + str( \" = 0\")))\n",
    "    \n",
    "    def solve_equations(self):\n",
    "        self.unknows = []\n",
    "        for i in range(len(self.variables) + 1):\n",
    "            if i == len(self.variables):\n",
    "                self.unknows.append(self.lamb)\n",
    "            else:\n",
    "                self.unknows.append(self.variables[i])\n",
    "        \n",
    "        return sym.solve(self.partial_equations, self.unknows)\n",
    "\n",
    "        \n",
    "\n",
    "\n",
    "y_1, y_2 = sym.symbols('y_1 y_2')\n",
    "\n",
    "f = (-4/25) * (y_1 - 1) **2 - y_2 + 4\n",
    "\n",
    "lagrange = Lagrange(f, y_1, y_2)\n",
    "lagrange.solve_equations()"
   ]
  },
  {
   "cell_type": "code",
   "execution_count": null,
   "metadata": {},
   "outputs": [],
   "source": [
    "print(\"hi\")"
   ]
  }
 ]
}