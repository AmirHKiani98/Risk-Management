{
 "metadata": {
  "language_info": {
   "codemirror_mode": {
    "name": "ipython",
    "version": 3
   },
   "file_extension": ".py",
   "mimetype": "text/x-python",
   "name": "python",
   "nbconvert_exporter": "python",
   "pygments_lexer": "ipython3",
   "version": "3.9.4"
  },
  "orig_nbformat": 2,
  "kernelspec": {
   "name": "python394jvsc74a57bd04ca808468450573b7499acb34fc54a161d6ee5a4acdd411b1db3d6b37c3db642",
   "display_name": "Python 3.9.4 64-bit"
  },
  "metadata": {
   "interpreter": {
    "hash": "4ca808468450573b7499acb34fc54a161d6ee5a4acdd411b1db3d6b37c3db642"
   }
  }
 },
 "nbformat": 4,
 "nbformat_minor": 2,
 "cells": [
  {
   "cell_type": "code",
   "execution_count": 143,
   "metadata": {},
   "outputs": [
    {
     "output_type": "display_data",
     "data": {
      "text/plain": "<IPython.core.display.Math object>",
      "text/latex": "$\\displaystyle c_i = \\frac{\\partial G}{\\partial y_i}$"
     },
     "metadata": {}
    },
    {
     "output_type": "display_data",
     "data": {
      "text/plain": "<IPython.core.display.Math object>",
      "text/latex": "$\\displaystyle c_1 = λ$"
     },
     "metadata": {}
    },
    {
     "output_type": "display_data",
     "data": {
      "text/plain": "<IPython.core.display.Math object>",
      "text/latex": "$\\displaystyle c_2 = -2*λ$"
     },
     "metadata": {}
    },
    {
     "output_type": "display_data",
     "data": {
      "text/plain": "<IPython.core.display.Math object>",
      "text/latex": "$\\displaystyle L = 2.23606797749979*λ**1.0$"
     },
     "metadata": {}
    },
    {
     "output_type": "display_data",
     "data": {
      "text/plain": "<IPython.core.display.Math object>",
      "text/latex": "$\\displaystyle \\alpha_i = \\frac{c_i}{L}$"
     },
     "metadata": {}
    },
    {
     "output_type": "display_data",
     "data": {
      "text/plain": "<IPython.core.display.Math object>",
      "text/latex": "$\\displaystyle \\alpha_1 = 0.447213595499958$"
     },
     "metadata": {}
    },
    {
     "output_type": "display_data",
     "data": {
      "text/plain": "<IPython.core.display.Math object>",
      "text/latex": "$\\displaystyle \\alpha_2 = -0.894427190999916$"
     },
     "metadata": {}
    },
    {
     "output_type": "display_data",
     "data": {
      "text/plain": "<IPython.core.display.Math object>",
      "text/latex": "$\\displaystyle y^*_i = -\\beta \\times \\alpha_i$"
     },
     "metadata": {}
    },
    {
     "output_type": "display_data",
     "data": {
      "text/plain": "<IPython.core.display.Math object>",
      "text/latex": "$\\displaystyle y^*_1 = -0.447213595499958*β$"
     },
     "metadata": {}
    },
    {
     "output_type": "display_data",
     "data": {
      "text/plain": "<IPython.core.display.Math object>",
      "text/latex": "$\\displaystyle y^*_2 = 0.894427190999916*β$"
     },
     "metadata": {}
    },
    {
     "output_type": "display_data",
     "data": {
      "text/plain": "<IPython.core.display.Math object>",
      "text/latex": "$\\displaystyle 10 - 2.23606797749979*β = 0$"
     },
     "metadata": {}
    },
    {
     "output_type": "display_data",
     "data": {
      "text/plain": "<IPython.core.display.Math object>",
      "text/latex": "$\\displaystyle β = 4.47213595499958$"
     },
     "metadata": {}
    }
   ],
   "source": [
    "import sympy as sym\n",
    "from sympy.physics.units.quantities import Quantity\n",
    "from IPython.display import display, Math, Latex\n",
    "\n",
    "# Specially for linear models\n",
    "class HasforLind:\n",
    "\n",
    "    \n",
    "    def __init__(self, function, *args):\n",
    "        self.variables = []\n",
    "        self.c = []\n",
    "        self.L = None\n",
    "        self.alpha = []\n",
    "        self.y_star = []\n",
    "        self.beta = Quantity(\"β\")\n",
    "        self.lamb = Quantity(\"λ\")\n",
    "        for variable in args:\n",
    "            self.variables.append(variable)\n",
    "        self.function = function\n",
    "        self.partial_derivative()\n",
    "        self.calc_length()\n",
    "        self.calc_alpha()\n",
    "        self.calc_y_star()\n",
    "        self.set_equation()\n",
    "    \n",
    "    def partial_derivative(self):\n",
    "        i = 0\n",
    "        display(Math(r\"c_i = \\frac{\\partial G}{\\partial y_i}\"))\n",
    "        for variable in self.variables:\n",
    "            self.c.append(self.lamb*sym.diff(self.function, variable))\n",
    "            display(Math(r\"c_\" + str(i+1) + \" = \" + str(self.c[i])))\n",
    "            i += 1\n",
    "            \n",
    "    \n",
    "    def calc_length(self):\n",
    "        summation = 0\n",
    "        for c in self.c:\n",
    "            summation += c**2\n",
    "        self.L = summation**0.5\n",
    "        display(Math(r\"L = \" + str(self.L)))\n",
    "\n",
    "    def calc_alpha(self):\n",
    "        display(Math(r\"\\alpha_i = \\frac{c_i}{L}\"))\n",
    "        i = 0\n",
    "        for c in self.c:\n",
    "            self.alpha.append(c/self.L)\n",
    "            display(Math(r\"\\alpha_\" + str(i+1) + \" = \" + str(self.alpha[i])))\n",
    "            i += 1\n",
    "    \n",
    "    def calc_y_star(self):\n",
    "        i = 0\n",
    "        display(Math(r\"y^*_i = -\\beta \\times \\alpha_i\"))\n",
    "        for alpha in self.alpha:\n",
    "            self.y_star.append(-1*alpha*self.beta)\n",
    "            display(Math(r\"y^*_\" + str(i+1) + \" = \" + str(self.y_star[i])))\n",
    "            i += 1\n",
    "    \n",
    "    def set_equation(self):\n",
    "        arguments = {}\n",
    "        for index in range(len(self.y_star)):\n",
    "            arguments[self.variables[index]] = self.y_star[index]\n",
    "        self.final_equation = self.function.subs(arguments)\n",
    "        display(Math(str(self.final_equation) + str(\" = 0\")))\n",
    "\n",
    "    def get_equation(self):\n",
    "        return self.final_equation\n",
    "    \n",
    "    def get_beta(self):\n",
    "\n",
    "        solve = sym.solvers.solve(self.get_equation(), self.beta)\n",
    "        display(Math(str(self.beta) + \" = \" + str(solve[0])))\n",
    "        return solve\n",
    "\n",
    "x_1 = sym.Symbol(\"x_1\")\n",
    "x_2 = sym.Symbol(\"x_2\")\n",
    "f = x_1 - 2*x_2 + 10     \n",
    "\n",
    "hasfor_lind = HasforLind(f, x_1, x_2)\n",
    "beta = hasfor_lind.get_beta()"
   ]
  },
  {
   "cell_type": "code",
   "execution_count": null,
   "metadata": {},
   "outputs": [],
   "source": []
  }
 ]
}