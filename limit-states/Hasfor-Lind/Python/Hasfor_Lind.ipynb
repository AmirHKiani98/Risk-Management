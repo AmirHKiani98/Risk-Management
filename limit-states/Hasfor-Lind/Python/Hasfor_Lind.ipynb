{
 "metadata": {
  "language_info": {
   "codemirror_mode": {
    "name": "ipython",
    "version": 3
   },
   "file_extension": ".py",
   "mimetype": "text/x-python",
   "name": "python",
   "nbconvert_exporter": "python",
   "pygments_lexer": "ipython3",
   "version": "3.9.4"
  },
  "orig_nbformat": 2,
  "kernelspec": {
   "name": "python394jvsc74a57bd04ca808468450573b7499acb34fc54a161d6ee5a4acdd411b1db3d6b37c3db642",
   "display_name": "Python 3.9.4 64-bit"
  },
  "metadata": {
   "interpreter": {
    "hash": "4ca808468450573b7499acb34fc54a161d6ee5a4acdd411b1db3d6b37c3db642"
   }
  }
 },
 "nbformat": 4,
 "nbformat_minor": 2,
 "cells": [
  {
   "cell_type": "code",
   "execution_count": 71,
   "metadata": {},
   "outputs": [
    {
     "output_type": "stream",
     "name": "stdout",
     "text": [
      "0\n"
     ]
    },
    {
     "output_type": "display_data",
     "data": {
      "text/plain": "-0.447213595499958*beta",
      "text/latex": "$\\displaystyle - 0.447213595499958 \\text{beta}$"
     },
     "metadata": {}
    },
    {
     "output_type": "display_data",
     "data": {
      "text/plain": "0.894427190999916*beta",
      "text/latex": "$\\displaystyle 0.894427190999916 \\text{beta}$"
     },
     "metadata": {}
    },
    {
     "output_type": "stream",
     "name": "stdout",
     "text": [
      "[4.47213595499958]\n"
     ]
    }
   ],
   "source": [
    "import sympy as sym\n",
    "from sympy.physics.units.quantities import Quantity\n",
    "x_1 = sym.Symbol(\"x_1\")\n",
    "x_2 = sym.Symbol(\"x_2\")\n",
    "f = x_1 - 2*x_2 + 10\n",
    "class HasforLind:\n",
    "\n",
    "    \n",
    "    def __init__(self, function, *args):\n",
    "        self.variables = []\n",
    "        self.c = []\n",
    "        self.L = None\n",
    "        self.alpha = []\n",
    "        self.y_star = []\n",
    "        self.beta = Quantity(\"beta\")\n",
    "        self.lamb = Quantity(\"λ\")\n",
    "        for variable in args:\n",
    "            self.variables.append(variable)\n",
    "        self.function = function\n",
    "        self.partial_derivative()\n",
    "        self.calc_length()\n",
    "        self.calc_alpha()\n",
    "        self.calc_y_star()\n",
    "        self.set_equation()\n",
    "    \n",
    "    def partial_derivative(self):\n",
    "        for variable in self.variables:\n",
    "            self.c.append(self.lamb*sym.diff(self.function, variable))\n",
    "    \n",
    "    def calc_length(self):\n",
    "        summation = 0\n",
    "        for c in self.c:\n",
    "            summation += c**2\n",
    "        self.L = summation**0.5\n",
    "\n",
    "    def calc_alpha(self):\n",
    "        for c in self.c:\n",
    "            self.alpha.append(c/self.L)\n",
    "    \n",
    "    def calc_y_star(self):\n",
    "        i = 0\n",
    "        for alpha in self.alpha:\n",
    "            self.y_star.append(-1*alpha*self.beta)\n",
    "            \n",
    "            display(self.y_star[i])\n",
    "            i += 1\n",
    "    \n",
    "    def set_equation(self):\n",
    "        arguments = {}\n",
    "        for index in range(len(self.y_star)):\n",
    "            arguments[self.variables[index]] = self.y_star[index]\n",
    "        self.final_equation = self.function.subs(arguments)\n",
    "\n",
    "    def get_equation(self):\n",
    "        return self.final_equation\n",
    "    \n",
    "    def get_beta(self):\n",
    "        return sym.solvers.solve(self.get_equation(), self.beta)\n",
    "        \n",
    "print(sym.diff(f, y).subs({x:3}))\n",
    "newHas = HasforLind(f, x_1, x_2)\n",
    "print(newHas.get_beta())"
   ]
  },
  {
   "cell_type": "code",
   "execution_count": null,
   "metadata": {},
   "outputs": [],
   "source": []
  }
 ]
}