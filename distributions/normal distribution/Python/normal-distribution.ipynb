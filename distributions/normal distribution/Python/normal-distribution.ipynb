{
 "metadata": {
  "language_info": {
   "codemirror_mode": {
    "name": "ipython",
    "version": 3
   },
   "file_extension": ".py",
   "mimetype": "text/x-python",
   "name": "python",
   "nbconvert_exporter": "python",
   "pygments_lexer": "ipython3",
   "version": "3.9.5"
  },
  "orig_nbformat": 2,
  "kernelspec": {
   "name": "python3",
   "display_name": "Python 3.9.5 64-bit"
  },
  "interpreter": {
   "hash": "ec055ff0ec4043811b397570eb854b5bbdcf91cbdbdb500dd4a87814f1494bab"
  }
 },
 "nbformat": 4,
 "nbformat_minor": 2,
 "cells": [
  {
   "cell_type": "code",
   "execution_count": 3,
   "metadata": {},
   "outputs": [
    {
     "output_type": "execute_result",
     "data": {
      "text/plain": [
       "5.3473042519183185"
      ]
     },
     "metadata": {},
     "execution_count": 3
    }
   ],
   "source": [
    "from scipy.stats import norm\n",
    "import math\n",
    "def Normal():\n",
    "\n",
    "    def __init__(self, data):\n",
    "        self.x = data\n",
    "\n",
    "    def get_mean(self):\n",
    "        pass\n",
    "\n",
    "norm.ppf(0.01, loc=10, scale=2)    "
   ]
  },
  {
   "cell_type": "code",
   "execution_count": 67,
   "metadata": {},
   "outputs": [
    {
     "output_type": "execute_result",
     "data": {
      "text/plain": [
       "0.16682"
      ]
     },
     "metadata": {},
     "execution_count": 67
    }
   ],
   "source": [
    "import random\n",
    "def tas():\n",
    "    return random.randint(1,6)\n",
    "def mont_carlo(n):\n",
    "    goal = 0\n",
    "    for i in range(n):\n",
    "        if tas() == 3:\n",
    "            goal += 1\n",
    "    return goal/n\n",
    "mont_carlo(100000)"
   ]
  },
  {
   "cell_type": "code",
   "execution_count": null,
   "metadata": {},
   "outputs": [],
   "source": []
  }
 ]
}