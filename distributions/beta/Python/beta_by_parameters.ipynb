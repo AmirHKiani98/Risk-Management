{
 "metadata": {
  "language_info": {
   "codemirror_mode": {
    "name": "ipython",
    "version": 3
   },
   "file_extension": ".py",
   "mimetype": "text/x-python",
   "name": "python",
   "nbconvert_exporter": "python",
   "pygments_lexer": "ipython3",
   "version": "3.9.4"
  },
  "orig_nbformat": 2,
  "kernelspec": {
   "name": "python394jvsc74a57bd04ca808468450573b7499acb34fc54a161d6ee5a4acdd411b1db3d6b37c3db642",
   "display_name": "Python 3.9.4 64-bit"
  },
  "metadata": {
   "interpreter": {
    "hash": "4ca808468450573b7499acb34fc54a161d6ee5a4acdd411b1db3d6b37c3db642"
   }
  }
 },
 "nbformat": 4,
 "nbformat_minor": 2,
 "cells": [
  {
   "cell_type": "code",
   "execution_count": 12,
   "metadata": {},
   "outputs": [
    {
     "output_type": "stream",
     "name": "stdout",
     "text": [
      "0.006400000000000004\n0.4705999999999645\n"
     ]
    }
   ],
   "source": [
    "import scipy.integrate as integrate\n",
    "import numpy as np\n",
    "\n",
    "class Beta:\n",
    "\n",
    "    def __init__(self, alpha, beta):\n",
    "        self.alpha = alpha\n",
    "        self.beta = beta\n",
    "    \n",
    "    def get_complete_gamma(self, value):\n",
    "        return integrate.quad(lambda t : (t**(value-1))*(np.exp(-1*t)), 0, np.inf)\n",
    "    \"\"\"\n",
    "    0 < p < 1\n",
    "    \"\"\"\n",
    "    def pdf(self, p):\n",
    "        return (self.get_complete_gamma(self.alpha + self.beta)/(self.get_complete_gamma(self.alpha)*self.get_complete_gamma(self.beta)))*(p**(self.alpha-1))*((1-p)**(self.beta-1))\n",
    "\n",
    "    def cdf(self, p):\n",
    "        return self.get_incomplete_beta(p)[0]/self.get_complete_beta()[0]\n",
    "    # Just A Fucntion!\n",
    "    def get_complete_beta(self):\n",
    "        return integrate.quad(lambda t : (t ** (self.alpha - 1))*((1 - t)**(self.beta - 1)), 0, 1)\n",
    "\n",
    "    # Just A Fucntion!\n",
    "    def get_incomplete_beta(self, p):\n",
    "        return integrate.quad(lambda t : (t ** (self.alpha - 1))*((1 - t)**(self.beta - 1)), 0, p)\n",
    "\n",
    "    # This prob is different from previous p argument!\n",
    "    def ppf(self, prob, step = 0.0001):\n",
    "        check = 0.00\n",
    "        result = self.cdf(check)\n",
    "        while(abs(result - prob) > 0.0001):\n",
    "            check += step\n",
    "            result = self.cdf(check)\n",
    "        return check\n",
    "new_beta = Beta(1,8)\n",
    "print(new_beta.ppf(0.05)) # Answer should 0.0064\n",
    "new_beta = Beta(2,7)\n",
    "print(new_beta.ppf(0.95)) # Answer should be 0.47 "
   ]
  },
  {
   "cell_type": "code",
   "execution_count": null,
   "metadata": {},
   "outputs": [],
   "source": []
  }
 ]
}