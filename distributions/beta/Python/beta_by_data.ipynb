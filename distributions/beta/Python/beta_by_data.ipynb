{
 "metadata": {
  "language_info": {
   "codemirror_mode": {
    "name": "ipython",
    "version": 3
   },
   "file_extension": ".py",
   "mimetype": "text/x-python",
   "name": "python",
   "nbconvert_exporter": "python",
   "pygments_lexer": "ipython3",
   "version": "3.9.4"
  },
  "orig_nbformat": 2,
  "kernelspec": {
   "name": "python394jvsc74a57bd04ca808468450573b7499acb34fc54a161d6ee5a4acdd411b1db3d6b37c3db642",
   "display_name": "Python 3.9.4 64-bit"
  },
  "metadata": {
   "interpreter": {
    "hash": "4ca808468450573b7499acb34fc54a161d6ee5a4acdd411b1db3d6b37c3db642"
   }
  }
 },
 "nbformat": 4,
 "nbformat_minor": 2,
 "cells": [
  {
   "cell_type": "code",
   "execution_count": null,
   "metadata": {},
   "outputs": [],
   "source": [
    "from sympy import symbols, Eq, solve\n",
    "import numpy as np\n",
    "class Beta:\n",
    "\n",
    "\n",
    "    def __init__(self, data):\n",
    "        self.x = data\n",
    "        self.calc_mean()\n",
    "        self.calc_std()\n",
    "        self._calc_paramters()\n",
    "\n",
    "    def calc_mean(self):\n",
    "        self.mean = np.mean(self.x)\n",
    "\n",
    "    def calc_std(self):\n",
    "        self.std = np.std(self.x)\n",
    "\n",
    "    def _calc_paramters(self):\n",
    "        self.alpha, self.beta = symbols(\"x y\")\n",
    "        eq1 = Eq(self.alpha/(self.alpha + self.beta), self.mean)\n",
    "        eq2 = Eq((self.alpha * self.beta)/ (((self.alpha + self.beta)**2)*(self.alpha + self.beta + 1)), self.std**2)\n",
    "        parameters = solve((eq1, eq2), (self.alpha, self.beta))\n",
    "        self.alpha = float(parameters[self.alpha])\n",
    "        self.beta = float(parameters[self.beta])\n",
    "\n",
    "\n",
    "    def get_beta(self):\n",
    "        return self.beta\n",
    "\n",
    "    def get_alpha(self):\n",
    "        return self.alpha\n",
    "    "
   ]
  }
 ]
}