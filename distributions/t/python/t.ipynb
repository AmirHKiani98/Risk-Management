{
 "metadata": {
  "language_info": {
   "codemirror_mode": {
    "name": "ipython",
    "version": 3
   },
   "file_extension": ".py",
   "mimetype": "text/x-python",
   "name": "python",
   "nbconvert_exporter": "python",
   "pygments_lexer": "ipython3",
   "version": "3.9.4"
  },
  "orig_nbformat": 2,
  "kernelspec": {
   "name": "python394jvsc74a57bd04ca808468450573b7499acb34fc54a161d6ee5a4acdd411b1db3d6b37c3db642",
   "display_name": "Python 3.9.4 64-bit"
  },
  "metadata": {
   "interpreter": {
    "hash": "4ca808468450573b7499acb34fc54a161d6ee5a4acdd411b1db3d6b37c3db642"
   }
  }
 },
 "nbformat": 4,
 "nbformat_minor": 2,
 "cells": [
  {
   "cell_type": "code",
   "execution_count": 12,
   "metadata": {},
   "outputs": [
    {
     "output_type": "execute_result",
     "data": {
      "text/plain": [
       "0.3848539845722409"
      ]
     },
     "metadata": {},
     "execution_count": 12
    }
   ],
   "source": [
    "import scipy.integrate as integrate\n",
    "import numpy as np\n",
    "import math\n",
    "class T:\n",
    "\n",
    "\n",
    "    def __init__(self, v):\n",
    "        self.v = v\n",
    "\n",
    "    def get_complete_gamma(self, alpha):\n",
    "        return integrate.quad(lambda t : (t**(alpha-1))*(np.exp(-1*t)), 0, np.inf)\n",
    "    \n",
    "    def pdf(self, x):\n",
    "        first_part = self.get_complete_gamma((self.v+1)/2)[0]\n",
    "        second_part = (math.pi * self.v)**0.5\n",
    "        third_part = self.get_complete_gamma(self.v/2)[0]\n",
    "        fourth_part = (1 + (x**2)/self.v)**(-1*(self.v+1)/2)\n",
    "        return (first_part/(second_part*third_part))*fourth_part\n",
    "\n",
    "myT = T(7)\n",
    "myT.pdf(0.025)"
   ]
  }
 ]
}