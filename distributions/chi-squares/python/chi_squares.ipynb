{
 "metadata": {
  "language_info": {
   "codemirror_mode": {
    "name": "ipython",
    "version": 3
   },
   "file_extension": ".py",
   "mimetype": "text/x-python",
   "name": "python",
   "nbconvert_exporter": "python",
   "pygments_lexer": "ipython3",
   "version": "3.9.4"
  },
  "orig_nbformat": 2,
  "kernelspec": {
   "name": "python394jvsc74a57bd04ca808468450573b7499acb34fc54a161d6ee5a4acdd411b1db3d6b37c3db642",
   "display_name": "Python 3.9.4 64-bit"
  },
  "metadata": {
   "interpreter": {
    "hash": "4ca808468450573b7499acb34fc54a161d6ee5a4acdd411b1db3d6b37c3db642"
   }
  }
 },
 "nbformat": 4,
 "nbformat_minor": 2,
 "cells": [
  {
   "cell_type": "code",
   "execution_count": 7,
   "metadata": {},
   "outputs": [
    {
     "output_type": "execute_result",
     "data": {
      "text/plain": [
       "362879.9999999998"
      ]
     },
     "metadata": {},
     "execution_count": 7
    }
   ],
   "source": [
    "import scipy.integrate as integrate\n",
    "from scipy.special import gammaln\n",
    "import numpy as np\n",
    "class ChiSquare:\n",
    "\n",
    "    def __init__(self, v):\n",
    "        self.v = v\n",
    "    \n",
    "    def pdf(self, x):\n",
    "        pass\n",
    "    def get_complete_gamma(self, alpha):\n",
    "        return integrate.quad(lambda t : (t**(alpha-1))*(np.exp(-1*t)), 0, np.inf)\n",
    "    def get_incomplete_gamma(self, alpha, x):\n",
    "        return integrate.quad(lambda t : (t**(alpha-1))*(np.exp(-1*t)), 0, x)\n",
    "    \n",
    "    def pdf(self, x):\n",
    "        return (1/((self.get_complete_gamma(self.v/2))*(2**(self.v/2))))*(x ** (self.v/2 - 1))*np.exp(-1 * x /2)\n",
    "    \n",
    "    def cdf(self, x):\n",
    "        return self.get_incomplete_gamma(self.v/2, x)/self.get_complete_gamma(self.v/2)\n",
    "        # You can use return np.exp(gammaln(alpha)) instead of last one\n",
    "chi = ChiSquare(12)\n",
    "np.exp(gammaln(10))"
   ]
  }
 ]
}