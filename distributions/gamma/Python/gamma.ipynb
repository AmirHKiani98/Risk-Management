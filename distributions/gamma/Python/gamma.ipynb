{
 "metadata": {
  "language_info": {
   "codemirror_mode": {
    "name": "ipython",
    "version": 3
   },
   "file_extension": ".py",
   "mimetype": "text/x-python",
   "name": "python",
   "nbconvert_exporter": "python",
   "pygments_lexer": "ipython3",
   "version": "3.9.4"
  },
  "orig_nbformat": 2,
  "kernelspec": {
   "name": "python394jvsc74a57bd04ca808468450573b7499acb34fc54a161d6ee5a4acdd411b1db3d6b37c3db642",
   "display_name": "Python 3.9.4 64-bit"
  },
  "metadata": {
   "interpreter": {
    "hash": "4ca808468450573b7499acb34fc54a161d6ee5a4acdd411b1db3d6b37c3db642"
   }
  }
 },
 "nbformat": 4,
 "nbformat_minor": 2,
 "cells": [
  {
   "cell_type": "code",
   "execution_count": 3,
   "metadata": {},
   "outputs": [
    {
     "output_type": "stream",
     "name": "stdout",
     "text": [
      "0.4991595159515952\n80.12669041028263\n"
     ]
    }
   ],
   "source": [
    "import pandas as pd\n",
    "import numpy as np\n",
    "class Gamma:\n",
    "\n",
    "    def __init__(self, data):\n",
    "        self.x = data\n",
    "        self.calc_mean()\n",
    "        self.calc_std()\n",
    "        self._calc_paramters()\n",
    "\n",
    "    def calc_mean(self):\n",
    "        self.mean = np.mean(self.x)\n",
    "\n",
    "    def calc_std(self):\n",
    "        self.std = np.std(self.x)\n",
    "\n",
    "    def _calc_paramters(self):\n",
    "        self.alpha = (self.mean/self.std)**2\n",
    "        self.beta =  ((self.std)**2/self.mean)\n",
    "        return(self.alpha, self.beta)\n",
    "\n",
    "    def get_beta(self):\n",
    "        return self.beta\n",
    "    \n",
    "    def get_alpha(self):\n",
    "        return self.alpha\n",
    "\n",
    "    def cdf(self, value):\n",
    "        from scipy.special import gammaln\n",
    "        gamma_a = np.exp(gammaln(self.get_alpha()))\n",
    "        # ToDo . What is that?\n",
    "        return (gamma_a/(self.get_beta * gamma_a))\n",
    "\n",
    "data = pd.read_csv(\"../../concrete_data.csv\")\n",
    "x = data.data\n",
    "gamma = Gamma(x)\n",
    "print(gamma.get_beta())\n",
    "print(gamma.get_alpha())"
   ]
  }
 ]
}