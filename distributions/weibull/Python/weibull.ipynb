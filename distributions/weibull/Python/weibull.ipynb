{
 "metadata": {
  "language_info": {
   "codemirror_mode": {
    "name": "ipython",
    "version": 3
   },
   "file_extension": ".py",
   "mimetype": "text/x-python",
   "name": "python",
   "nbconvert_exporter": "python",
   "pygments_lexer": "ipython3",
   "version": "3.9.5"
  },
  "orig_nbformat": 2,
  "kernelspec": {
   "name": "python3",
   "display_name": "Python 3.9.5 64-bit"
  },
  "metadata": {
   "interpreter": {
    "hash": "4ca808468450573b7499acb34fc54a161d6ee5a4acdd411b1db3d6b37c3db642"
   }
  },
  "interpreter": {
   "hash": "ec055ff0ec4043811b397570eb854b5bbdcf91cbdbdb500dd4a87814f1494bab"
  }
 },
 "nbformat": 4,
 "nbformat_minor": 2,
 "cells": [
  {
   "cell_type": "code",
   "execution_count": 16,
   "metadata": {
    "tags": []
   },
   "outputs": [
    {
     "output_type": "stream",
     "name": "stdout",
     "text": [
      "2.010000000000001\n"
     ]
    }
   ],
   "source": [
    "import pandas as pd\n",
    "import numpy as np\n",
    "from scipy.stats import norm \n",
    "from scipy.special import gammaln\n",
    "class Weibull:\n",
    "    \"\"\"\n",
    "    Input a vector data\n",
    "    \"\"\"\n",
    "    def __init__(self, data):\n",
    "        \"\"\"\n",
    "        data is a vector\n",
    "        \"\"\"\n",
    "        self.x = data\n",
    "        self.calc_mean()\n",
    "        self.calc_std()\n",
    "        self._calc_parameters()\n",
    "\n",
    "    def calc_mean(self):\n",
    "        self.mean = np.mean(self.x)\n",
    "    \n",
    "    def calc_std(self):\n",
    "        self.std = np.std(self.x)\n",
    "\n",
    "    def _calc_parameters(self):\n",
    "\n",
    "        self.alpha = 0.1\n",
    "        first_elemnt = 1 + (1/self.alpha)\n",
    "        second_element = 1 + 2/self.alpha\n",
    "        third_element = 1 + 1/self.alpha\n",
    "        final_value = self.mean/self.std\n",
    "        to_check_value = (self.get_gamma(first_elemnt)/((self.get_gamma(second_element) - (self.get_gamma(third_element))**2)**0.5))\n",
    "        while(abs(to_check_value -final_value) > 0.01):\n",
    "            self.alpha += 0.01\n",
    "            first_elemnt = 1 + (1/self.alpha)\n",
    "            second_element = 1 + 2/self.alpha\n",
    "            third_element = 1 + 1/self.alpha\n",
    "            to_check_value = (self.get_gamma(first_elemnt)/((self.get_gamma(second_element) - (self.get_gamma(third_element))**2)**0.5))\n",
    "        self.beta = (self.mean)/(self.get_gamma((1 + (1/self.alpha))))   \n",
    "        return(self.alpha, self.beta) \n",
    "\n",
    "    def get_beta(self):\n",
    "        return self.beta\n",
    "\n",
    "    def get_alpha(self):\n",
    "        return self.alpha\n",
    "\n",
    "    def get_gamma(self, value):\n",
    "        return np.exp(gammaln(value))\n",
    "        \n",
    "    # def get_shape_paramter(self, step =0.01):\n",
    "    #     value = 1\n",
    "    #     check  = self.get_gamma(value+step)\n",
    "    #     while(abs(check - self.mean) > 0.01):\n",
    "    #         value += step\n",
    "    #         check  = self.get_gamma(value+step)\n",
    "    #     self.get_shape_paramter = step**(-1)\n",
    "    #     return self.get_shape_paramter\n",
    "            \n",
    "\n",
    "    \n",
    "    def cdf(self, value):\n",
    "        return (1 - np.exp(-1*((value/self.get_beta())**self.get_alpha())))\n",
    "\n",
    "data = pd.read_csv(\"../example.csv\")\n",
    "x = data.data\n",
    "weibull = Weibull(x)\n",
    "print(weibull.get_alpha())\n",
    "\n"
   ]
  },
  {
   "cell_type": "code",
   "execution_count": 19,
   "metadata": {},
   "outputs": [
    {
     "output_type": "execute_result",
     "data": {
      "text/plain": [
       "0.8862269254527579"
      ]
     },
     "metadata": {},
     "execution_count": 19
    }
   ],
   "source": [
    "weibull.get_gamma(3/2)"
   ]
  },
  {
   "cell_type": "code",
   "execution_count": null,
   "metadata": {},
   "outputs": [],
   "source": []
  }
 ]
}