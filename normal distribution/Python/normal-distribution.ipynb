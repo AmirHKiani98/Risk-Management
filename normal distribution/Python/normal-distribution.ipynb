{
 "metadata": {
  "language_info": {
   "codemirror_mode": {
    "name": "ipython",
    "version": 3
   },
   "file_extension": ".py",
   "mimetype": "text/x-python",
   "name": "python",
   "nbconvert_exporter": "python",
   "pygments_lexer": "ipython3",
   "version": "3.9.1-final"
  },
  "orig_nbformat": 2,
  "kernelspec": {
   "name": "python3",
   "display_name": "Python 3.9.1 64-bit",
   "metadata": {
    "interpreter": {
     "hash": "892227d14d2daa952662dd44dee0ebb4e6baeee379db9722bbf63a5542c7e6a7"
    }
   }
  }
 },
 "nbformat": 4,
 "nbformat_minor": 2,
 "cells": [
  {
   "cell_type": "code",
   "execution_count": 29,
   "metadata": {},
   "outputs": [
    {
     "output_type": "execute_result",
     "data": {
      "text/plain": [
       "5.3473042519183185"
      ]
     },
     "metadata": {},
     "execution_count": 29
    }
   ],
   "source": [
    "from scipy.stats import norm\n",
    "import math\n",
    "def get_normal_details(mean,std):\n",
    "    return norm(mean,std)\n",
    "get_normal_details(10,2).ppf(0.01)"
   ]
  },
  {
   "cell_type": "code",
   "execution_count": 67,
   "metadata": {},
   "outputs": [
    {
     "output_type": "execute_result",
     "data": {
      "text/plain": [
       "0.16682"
      ]
     },
     "metadata": {},
     "execution_count": 67
    }
   ],
   "source": [
    "import random\n",
    "def tas():\n",
    "    return random.randint(1,6)\n",
    "def mont_carlo(n):\n",
    "    goal = 0\n",
    "    for i in range(n):\n",
    "        if tas() == 3:\n",
    "            goal += 1\n",
    "    return goal/n\n",
    "mont_carlo(100000)"
   ]
  },
  {
   "cell_type": "code",
   "execution_count": null,
   "metadata": {},
   "outputs": [],
   "source": []
  }
 ]
}