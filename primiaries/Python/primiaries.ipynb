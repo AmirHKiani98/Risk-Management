{
 "metadata": {
  "language_info": {
   "codemirror_mode": {
    "name": "ipython",
    "version": 3
   },
   "file_extension": ".py",
   "mimetype": "text/x-python",
   "name": "python",
   "nbconvert_exporter": "python",
   "pygments_lexer": "ipython3",
   "version": "3.9.1-final"
  },
  "orig_nbformat": 2,
  "kernelspec": {
   "name": "python391jvsc74a57bd0892227d14d2daa952662dd44dee0ebb4e6baeee379db9722bbf63a5542c7e6a7",
   "display_name": "Python 3.9.1 64-bit"
  }
 },
 "nbformat": 4,
 "nbformat_minor": 2,
 "cells": [
  {
   "cell_type": "code",
   "execution_count": 7,
   "metadata": {},
   "outputs": [
    {
     "output_type": "execute_result",
     "data": {
      "text/plain": [
       "<module 'compiler' from 'C:\\\\Softwares\\\\Python39\\\\lib\\\\site-packages\\\\compiler\\\\__init__.py'>"
      ]
     },
     "metadata": {},
     "execution_count": 7
    }
   ],
   "source": [
    "import numpy as np\n",
    "import sympy as sp\n",
    "import compiler\n",
    "class Primiaries:\n",
    "    def __init__(self, x):\n",
    "        self.data_type = type(x).__name__\n",
    "        self.data = x\n",
    "    \n",
    "    def get_mean(self):\n",
    "        if self.data_type == \"dict\":\n",
    "            x = self.data[\"x\"]\n",
    "            f = self.data[\"f\"]\n",
    "            if len(x) != len(f): raise Exception(\"The length of `x` and `f` should be same\")\n",
    "            n = 0\n",
    "            sum_xf = 0\n",
    "            for i in range(len(x)):\n",
    "                n += f[i]\n",
    "                sum_xf += f[i] * x[i]\n",
    "            return sum_xf/n\n",
    "    def get_median(self):\n",
    "        if self.data_type == \"dict\":\n",
    "            x = self.data[\"x\"]\n",
    "            f = self.data[\"f\"]\n",
    "            if len(x) != len(f): raise Exception(\"The length of `x` and `f` should be same\")\n",
    "            cumulative = 0\n",
    "            cumulative_list = []\n",
    "            for frequency in f:\n",
    "                cumulative += frequency\n",
    "                cumulative_list.append(cumulative)\n",
    "            to_minus = (cumulative+1)/2\n",
    "            distance_list = []\n",
    "            for value in f:\n",
    "                distance = abs(value-to_minus)\n",
    "                distance_list.append(distance)\n",
    "            minimum_inices = [i for i, e in enumerate(distance_list) if e == min(distance_list)]\n",
    "            return to_minus\n",
    "\n",
    "\n",
    "data = {\"x\":[4,8,12,16,20,24,28],\n",
    "        \"f\":[7,18,25,18,15,10,7]\n",
    "}\n",
    "my_class = Primiaries(data)\n",
    "# my_class.get_median()\n",
    "eq = \"x^2+2x\"\n",
    "compiler"
   ]
  },
  {
   "cell_type": "code",
   "execution_count": 4,
   "metadata": {},
   "outputs": [
    {
     "output_type": "stream",
     "name": "stdout",
     "text": [
      "Collecting compiler\n  Downloading compiler-0.2.0-py3-none-any.whl (5.6 kB)\nInstalling collected packages: compiler\nSuccessfully installed compiler-0.2.0\n"
     ]
    }
   ],
   "source": [
    "!pip3 install compiler"
   ]
  },
  {
   "cell_type": "code",
   "execution_count": null,
   "metadata": {},
   "outputs": [],
   "source": []
  }
 ]
}