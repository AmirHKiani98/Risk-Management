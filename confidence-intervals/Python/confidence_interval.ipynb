{
 "metadata": {
  "language_info": {
   "codemirror_mode": {
    "name": "ipython",
    "version": 3
   },
   "file_extension": ".py",
   "mimetype": "text/x-python",
   "name": "python",
   "nbconvert_exporter": "python",
   "pygments_lexer": "ipython3",
   "version": "3.9.4"
  },
  "orig_nbformat": 2,
  "kernelspec": {
   "name": "python394jvsc74a57bd04ca808468450573b7499acb34fc54a161d6ee5a4acdd411b1db3d6b37c3db642",
   "display_name": "Python 3.9.4 64-bit"
  },
  "metadata": {
   "interpreter": {
    "hash": "4ca808468450573b7499acb34fc54a161d6ee5a4acdd411b1db3d6b37c3db642"
   }
  }
 },
 "nbformat": 4,
 "nbformat_minor": 2,
 "cells": [
  {
   "cell_type": "code",
   "execution_count": 32,
   "metadata": {},
   "outputs": [
    {
     "output_type": "stream",
     "name": "stdout",
     "text": [
      "[38.96498528470196, 44.39501471529804]\n75\n[38.90714679192304, 44.45285320807696]\n75\n"
     ]
    }
   ],
   "source": [
    "import scipy.stats as sts\n",
    "import math\n",
    "class CI:\n",
    "    class known_variance:\n",
    "\n",
    "        def __init__(self, alpha, std, size, mean):\n",
    "            self.alpha = alpha\n",
    "            self.mean = mean\n",
    "            self.std = std\n",
    "            self.size = size\n",
    "        \n",
    "        def get_confidence_interval(self):\n",
    "            phi_value = 1-(1-self.alpha)/2\n",
    "            self.k_value = sts.norm.ppf(phi_value)\n",
    "            self.CI = self.k_value*self.std/(self.size**0.5)\n",
    "            return [self.mean - self.CI, self.mean + self.CI]\n",
    "\n",
    "        def reduce_CI(self, percentage):\n",
    "            return math.ceil((self.k_value * self.std/(self.CI*(1-percentage)))**2)\n",
    "\n",
    "    class unknown_variance:\n",
    "\n",
    "        def __init__(self, alpha, std, size, mean, variables_to_minus_degrees):\n",
    "            self.alpha = alpha\n",
    "            self.mean = mean\n",
    "            self.std = std\n",
    "            self.size = size\n",
    "            self.degree = self.size - variables_to_minus_degrees\n",
    "\n",
    "        def get_confidence_interval(self):\n",
    "            phi_value = 1-(1-self.alpha)/2\n",
    "            self.t_value = sts.t.ppf(phi_value, self.degree)\n",
    "            self.CI = self.t_value*self.std/(self.size**0.5)\n",
    "            return [self.mean - self.CI, self.mean + self.CI]\n",
    "\n",
    "        def reduce_CI(self, percentage):\n",
    "            return math.ceil((self.t_value * self.std/(self.CI*(1-percentage)))**2)\n",
    "\n",
    "newCI = CI().known_variance(0.95, 10.73, 60, 41.68)\n",
    "print(newCI.get_confidence_interval())\n",
    "print(newCI.reduce_CI(0.1))\n",
    "newCI = CI().unknown_variance(0.95, 10.73, 60, 41.68, 2)\n",
    "print(newCI.get_confidence_interval())\n",
    "print(newCI.reduce_CI(0.1))"
   ]
  },
  {
   "cell_type": "code",
   "execution_count": null,
   "metadata": {},
   "outputs": [],
   "source": []
  }
 ]
}