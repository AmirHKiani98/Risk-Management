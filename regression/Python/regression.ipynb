{
 "metadata": {
  "language_info": {
   "codemirror_mode": {
    "name": "ipython",
    "version": 3
   },
   "file_extension": ".py",
   "mimetype": "text/x-python",
   "name": "python",
   "nbconvert_exporter": "python",
   "pygments_lexer": "ipython3",
   "version": "3.9.1-final"
  },
  "orig_nbformat": 2,
  "kernelspec": {
   "name": "python3",
   "display_name": "Python 3.9.1 64-bit",
   "metadata": {
    "interpreter": {
     "hash": "892227d14d2daa952662dd44dee0ebb4e6baeee379db9722bbf63a5542c7e6a7"
    }
   }
  }
 },
 "nbformat": 4,
 "nbformat_minor": 2,
 "cells": [
  {
   "source": [
    "# Imports\n",
    "import numpy as np\n",
    "import pandas as pd\n",
    "import sympy as sp\n",
    "X = [5,4,9,12,2,7.5,6.3,2.5,8.9,4.6]\n",
    "Y = [0.2,1,2,1.5,0.3,1,0.8,0.6,2.3,1.2]\n",
    "class Regression:\n",
    "    def __init__(self,X,Y):\n",
    "        self.X = X\n",
    "        self.Y = Y\n",
    "        X = np.array(self.X)\n",
    "        Y = np.array(self.Y)\n",
    "\n",
    "        mean_X = np.mean(X)\n",
    "        mean_Y = np.mean(Y)\n",
    "        x = X - mean_X\n",
    "        y = Y - mean_Y\n",
    "        xy = x * y\n",
    "        x_pow_2 = x**2\n",
    "\n",
    "        # Estimators\n",
    "        beta_2_hat = np.sum(xy)/np.sum(x_pow_2)\n",
    "        self.beta2 = beta_2_hat\n",
    "        beta_1_hat = mean_Y - mean_X * beta_2_hat\n",
    "        self.beta1 = beta_1_hat\n",
    "        \n",
    "        # y_hat\n",
    "        Y_hat = beta_2_hat * X + beta_1_hat\n",
    "        x_symbol = sp.Symbol(\"x\")\n",
    "        self.line = beta_1_hat + beta_2_hat * x_symbol\n",
    "        mean_Y_hat = np.mean(Y_hat)\n",
    "\n",
    "        # Errors\n",
    "        u_hat =  Y - Y_hat\n",
    "\n",
    "        # Sigma\n",
    "\n",
    "        sigma_pow_2 = np.sum(u_hat**2)/(len(x)-2)\n",
    "        simga = np.sqrt(sigma_pow_2)\n",
    "\n",
    "        # Variance\n",
    "        var_beta_2_hat = sigma_pow_2 / np.sum(x_pow_2)\n",
    "\n",
    "        # Standard deviation\n",
    "        std_beta_2_hat = np.sqrt(var_beta_2_hat)\n",
    "\n",
    "        # R2\n",
    "        y_hat = Y_hat - np.mean(Y_hat)\n",
    "        y_pow_2 = y**2\n",
    "        \n",
    "        y_hat_pow_2 = y_hat ** 2\n",
    "        u_hat_pow_2 = u_hat**2\n",
    "\n",
    "        RSS = np.sum(u_hat_pow_2)\n",
    "        TSS = np.sum(y_pow_2)\n",
    "        ESS = np.sum(y_hat_pow_2)\n",
    "\n",
    "        R2 = ESS/TSS\n",
    "        self.rSquared = R2\n",
    "        # Variance of the line\n",
    "        n = len(x)\n",
    "        variance = (1/(n*(n-2)))*(n*np.sum(y**2)-np.sum(y)**2-((n*np.sum(X*y)-np.sum(X)*np.sum(y))**2/(n*np.sum(X**2)-np.sum(X)**2))) "
   ],
   "cell_type": "code",
   "metadata": {},
   "execution_count": 4,
   "outputs": [
    {
     "output_type": "execute_result",
     "data": {
      "text/plain": [
       "0.531114044029741"
      ]
     },
     "metadata": {},
     "execution_count": 4
    }
   ]
  },
  {
   "source": [],
   "cell_type": "code",
   "metadata": {},
   "execution_count": 5,
   "outputs": []
  },
  {
   "cell_type": "code",
   "execution_count": null,
   "metadata": {},
   "outputs": [],
   "source": []
  }
 ]
}