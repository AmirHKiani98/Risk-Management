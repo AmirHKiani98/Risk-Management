{
 "metadata": {
  "language_info": {
   "codemirror_mode": {
    "name": "ipython",
    "version": 3
   },
   "file_extension": ".py",
   "mimetype": "text/x-python",
   "name": "python",
   "nbconvert_exporter": "python",
   "pygments_lexer": "ipython3",
   "version": "3.9.1-final"
  },
  "orig_nbformat": 2,
  "kernelspec": {
   "name": "python3",
   "display_name": "Python 3.9.1 64-bit",
   "metadata": {
    "interpreter": {
     "hash": "892227d14d2daa952662dd44dee0ebb4e6baeee379db9722bbf63a5542c7e6a7"
    }
   }
  }
 },
 "nbformat": 4,
 "nbformat_minor": 2,
 "cells": [
  {
   "source": [
    "<h2>Importing Modules<h2>"
   ],
   "cell_type": "markdown",
   "metadata": {}
  },
  {
   "cell_type": "code",
   "execution_count": 1,
   "metadata": {},
   "outputs": [],
   "source": [
    "from sklearn.linear_model import LinearRegression\n",
    "from sklearn.metrics import mean_squared_error, r2_score\n",
    "import pandas as pd\n",
    "import numpy as np"
   ]
  },
  {
   "source": [
    "<h2>Reading Data<h2>"
   ],
   "cell_type": "markdown",
   "metadata": {}
  },
  {
   "cell_type": "code",
   "execution_count": 2,
   "metadata": {},
   "outputs": [],
   "source": [
    "data = pd.read_csv(\"../sample_data.csv\")\n",
    "y = np.array(data[\"Energy Consumption\"])\n",
    "X = np.array(data[\"Households\"])"
   ]
  },
  {
   "source": [
    "<h2>Model</h2>"
   ],
   "cell_type": "markdown",
   "metadata": {}
  },
  {
   "cell_type": "code",
   "execution_count": 3,
   "metadata": {},
   "outputs": [
    {
     "output_type": "execute_result",
     "data": {
      "text/plain": [
       "LinearRegression()"
      ]
     },
     "metadata": {},
     "execution_count": 3
    }
   ],
   "source": [
    "regressionModel = LinearRegression()\n",
    "regressionModel.fit(X.reshape(-1, 1),y)"
   ]
  },
  {
   "source": [
    "<h2>Details of Model<h2>"
   ],
   "cell_type": "markdown",
   "metadata": {}
  },
  {
   "cell_type": "code",
   "execution_count": 21,
   "metadata": {},
   "outputs": [],
   "source": [
    "slope = regressionModel.coef_[0]\n",
    "intercept = regressionModel.intercept_\n",
    "preds = regressionModel.predict(X.reshape(-1, 1))\n",
    "r2Squared = r2_score(y,preds)\n",
    "meandSqauredError = mean_squared_error(y,preds)\n",
    "n = len(y)\n",
    "variance = (1/(n*(n-2)))*(n*np.sum(y**2)-np.sum(y)**2-((n*np.sum(X*y)-np.sum(X)*np.sum(y))**2/(n*np.sum(X**2)-np.sum(X)**2))) "
   ]
  },
  {
   "cell_type": "code",
   "execution_count": 22,
   "metadata": {},
   "outputs": [],
   "source": [
    "predictedValue = intercept + slope * 50"
   ]
  },
  {
   "cell_type": "code",
   "execution_count": 23,
   "metadata": {},
   "outputs": [],
   "source": [
    "changeInEnergy = slope * 2"
   ]
  }
 ]
}