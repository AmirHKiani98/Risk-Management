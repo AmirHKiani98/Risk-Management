{
 "metadata": {
  "language_info": {
   "codemirror_mode": {
    "name": "ipython",
    "version": 3
   },
   "file_extension": ".py",
   "mimetype": "text/x-python",
   "name": "python",
   "nbconvert_exporter": "python",
   "pygments_lexer": "ipython3",
   "version": "3.9.1-final"
  },
  "orig_nbformat": 2,
  "kernelspec": {
   "name": "python3",
   "display_name": "Python 3.9.1 64-bit",
   "metadata": {
    "interpreter": {
     "hash": "892227d14d2daa952662dd44dee0ebb4e6baeee379db9722bbf63a5542c7e6a7"
    }
   }
  }
 },
 "nbformat": 4,
 "nbformat_minor": 2,
 "cells": [
  {
   "cell_type": "code",
   "execution_count": 86,
   "metadata": {},
   "outputs": [],
   "source": [
    "import pandas as pd\n",
    "import numpy as np\n",
    "from scipy.stats import norm, lognorm, ksone"
   ]
  },
  {
   "cell_type": "code",
   "execution_count": 117,
   "metadata": {},
   "outputs": [
    {
     "output_type": "stream",
     "name": "stdout",
     "text": [
      "0.17230517521544603\n"
     ]
    },
    {
     "output_type": "execute_result",
     "data": {
      "text/plain": [
       "<__main__.KolmogrovSmirnov at 0x142b4589e80>"
      ]
     },
     "metadata": {},
     "execution_count": 117
    }
   ],
   "source": [
    "class KolmogrovSmirnov:\n",
    "    def __init__(self,X,alpha):\n",
    "        self.X = np.sort(np.array(X))\n",
    "        self.alpha = alpha\n",
    "        self.make_dataframe()\n",
    "\n",
    "    def make_dataframe(self):\n",
    "        rank = np.linspace(1, len(self.X),len(self.X))\n",
    "        Ex = np.array(rank/len(self.X))\n",
    "        normal_cumulative = self.get_normal_cumulative()\n",
    "        log_normal_cumulative = self.get_log_normal_cumulative()\n",
    "        D_normal = abs(normal_cumulative-Ex)\n",
    "        D_log_normal = abs(log_normal_cumulative-Ex)\n",
    "        self.dataframe = pd.DataFrame(\n",
    "            data={\"Data\":self.X,\n",
    "            \"Rank\":rank,\n",
    "            \"E\":Ex,\n",
    "            \"Normal Cumulative\":normal_cumulative,\n",
    "            \"Log-Normal Cumulative\":log_normal_cumulative,\n",
    "            \"D Normal\":D_normal,\n",
    "            \"D Log-Normal\":D_log_normal\n",
    "            }\n",
    "        )\n",
    "        # display(self.dataframe)\n",
    "        self.D_log_normal = max(D_log_normal)\n",
    "        self.D_normal = max(D_normal)\n",
    "        D_critical()\n",
    "        \n",
    "    def D_critical(self):\n",
    "        self.D_critical = ksone.ppf(1-self.alpha/2,np.size(self.X))\n",
    "        return self.D_critical\n",
    "    def get_normal_cumulative(self):\n",
    "        normal_dist = norm(np.mean(self.X),np.std(self.X))\n",
    "        return np.array(list(map(normal_dist.cdf,self.X)))\n",
    "\n",
    "    def get_log_normal_cumulative(self):\n",
    "        mean = np.mean(self.X)\n",
    "        std = np.std(self.X)\n",
    "        mean_lognormal = np.log((mean**2)/(mean**2 + std**2)**0.5)\n",
    "        variance_lognormal = np.log(1.0651698304343361)\n",
    "        std_lognormal = variance_lognormal**0.5\n",
    "        log_normal_dist = norm(loc=mean_lognormal,scale=std_lognormal)\n",
    "        return np.array(list(map(log_normal_dist.cdf,np.log(self.X))))\n",
    "    \n",
    "dataframe = pd.read_csv(\"../sample_data.csv\")\n",
    "KolmogrovSmirnov(dataframe[\"data\"],0.05)"
   ]
  },
  {
   "cell_type": "code",
   "execution_count": null,
   "metadata": {},
   "outputs": [],
   "source": []
  }
 ]
}